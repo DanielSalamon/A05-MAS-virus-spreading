{
  "nbformat": 4,
  "nbformat_minor": 0,
  "metadata": {
    "kernelspec": {
      "display_name": "Python 3",
      "language": "python",
      "name": "python3"
    },
    "language_info": {
      "codemirror_mode": {
        "name": "ipython",
        "version": 3
      },
      "file_extension": ".py",
      "mimetype": "text/x-python",
      "name": "python",
      "nbconvert_exporter": "python",
      "pygments_lexer": "ipython3",
      "version": "3.7.6"
    },
    "colab": {
      "name": "DMAS_covidSimulation.ipynb",
      "provenance": [],
      "collapsed_sections": [],
      "toc_visible": true,
      "include_colab_link": true
    }
  },
  "cells": [
    {
      "cell_type": "markdown",
      "metadata": {
        "id": "view-in-github",
        "colab_type": "text"
      },
      "source": [
        "<a href=\"https://colab.research.google.com/github/DanielSalamon/MAS-virus-spreading/blob/master/DMAS_covidSimulation.ipynb\" target=\"_parent\"><img src=\"https://colab.research.google.com/assets/colab-badge.svg\" alt=\"Open In Colab\"/></a>"
      ]
    },
    {
      "cell_type": "markdown",
      "metadata": {
        "id": "9850NyiZHV5G",
        "colab_type": "text"
      },
      "source": [
        "# COVID-19 Agend Based Modelling\n"
      ]
    },
    {
      "cell_type": "markdown",
      "metadata": {
        "id": "WKr-6mHbHj-I",
        "colab_type": "text"
      },
      "source": [
        "## Imports"
      ]
    },
    {
      "cell_type": "code",
      "metadata": {
        "id": "u2xmDsIRJdSM",
        "colab_type": "code",
        "colab": {
          "base_uri": "https://localhost:8080/",
          "height": 625
        },
        "outputId": "b4f9f64b-6eb7-4461-c9ea-d28a630d0121"
      },
      "source": [
        "pip install mesa"
      ],
      "execution_count": null,
      "outputs": [
        {
          "output_type": "stream",
          "text": [
            "Collecting mesa\n",
            "\u001b[?25l  Downloading https://files.pythonhosted.org/packages/cc/b7/5bde310fcbb82d7741ce74fa171892a7d4599a719b5e8373f38a7e66d8fc/Mesa-0.8.7-py3-none-any.whl (648kB)\n",
            "\u001b[K     |████████████████████████████████| 655kB 2.8MB/s \n",
            "\u001b[?25hRequirement already satisfied: tornado in /usr/local/lib/python3.6/dist-packages (from mesa) (5.1.1)\n",
            "Requirement already satisfied: pandas in /usr/local/lib/python3.6/dist-packages (from mesa) (1.0.5)\n",
            "Requirement already satisfied: click in /usr/local/lib/python3.6/dist-packages (from mesa) (7.1.2)\n",
            "Requirement already satisfied: networkx in /usr/local/lib/python3.6/dist-packages (from mesa) (2.5)\n",
            "Requirement already satisfied: tqdm in /usr/local/lib/python3.6/dist-packages (from mesa) (4.41.1)\n",
            "Requirement already satisfied: numpy in /usr/local/lib/python3.6/dist-packages (from mesa) (1.18.5)\n",
            "Collecting cookiecutter\n",
            "  Downloading https://files.pythonhosted.org/packages/95/83/83ebf950ec99b02c61719ccb116462844ba2e873df7c4d40afc962494312/cookiecutter-1.7.2-py2.py3-none-any.whl\n",
            "Requirement already satisfied: python-dateutil>=2.6.1 in /usr/local/lib/python3.6/dist-packages (from pandas->mesa) (2.8.1)\n",
            "Requirement already satisfied: pytz>=2017.2 in /usr/local/lib/python3.6/dist-packages (from pandas->mesa) (2018.9)\n",
            "Requirement already satisfied: decorator>=4.3.0 in /usr/local/lib/python3.6/dist-packages (from networkx->mesa) (4.4.2)\n",
            "Requirement already satisfied: requests>=2.23.0 in /usr/local/lib/python3.6/dist-packages (from cookiecutter->mesa) (2.23.0)\n",
            "Collecting binaryornot>=0.4.4\n",
            "  Downloading https://files.pythonhosted.org/packages/24/7e/f7b6f453e6481d1e233540262ccbfcf89adcd43606f44a028d7f5fae5eb2/binaryornot-0.4.4-py2.py3-none-any.whl\n",
            "Requirement already satisfied: Jinja2<3.0.0 in /usr/local/lib/python3.6/dist-packages (from cookiecutter->mesa) (2.11.2)\n",
            "Requirement already satisfied: MarkupSafe<2.0.0 in /usr/local/lib/python3.6/dist-packages (from cookiecutter->mesa) (1.1.1)\n",
            "Collecting jinja2-time>=0.2.0\n",
            "  Downloading https://files.pythonhosted.org/packages/6a/a1/d44fa38306ffa34a7e1af09632b158e13ec89670ce491f8a15af3ebcb4e4/jinja2_time-0.2.0-py2.py3-none-any.whl\n",
            "Collecting poyo>=0.5.0\n",
            "  Downloading https://files.pythonhosted.org/packages/42/50/0b0820601bde2eda403f47b9a4a1f270098ed0dd4c00c443d883164bdccc/poyo-0.5.0-py2.py3-none-any.whl\n",
            "Requirement already satisfied: python-slugify>=4.0.0 in /usr/local/lib/python3.6/dist-packages (from cookiecutter->mesa) (4.0.1)\n",
            "Requirement already satisfied: six>=1.10 in /usr/local/lib/python3.6/dist-packages (from cookiecutter->mesa) (1.15.0)\n",
            "Requirement already satisfied: urllib3!=1.25.0,!=1.25.1,<1.26,>=1.21.1 in /usr/local/lib/python3.6/dist-packages (from requests>=2.23.0->cookiecutter->mesa) (1.24.3)\n",
            "Requirement already satisfied: idna<3,>=2.5 in /usr/local/lib/python3.6/dist-packages (from requests>=2.23.0->cookiecutter->mesa) (2.10)\n",
            "Requirement already satisfied: certifi>=2017.4.17 in /usr/local/lib/python3.6/dist-packages (from requests>=2.23.0->cookiecutter->mesa) (2020.6.20)\n",
            "Requirement already satisfied: chardet<4,>=3.0.2 in /usr/local/lib/python3.6/dist-packages (from requests>=2.23.0->cookiecutter->mesa) (3.0.4)\n",
            "Collecting arrow\n",
            "\u001b[?25l  Downloading https://files.pythonhosted.org/packages/ed/d2/aa994f2d8dd442113c753041761dc0732a35def05538de48f61adb28642a/arrow-0.16.0-py2.py3-none-any.whl (50kB)\n",
            "\u001b[K     |████████████████████████████████| 51kB 5.0MB/s \n",
            "\u001b[?25hRequirement already satisfied: text-unidecode>=1.3 in /usr/local/lib/python3.6/dist-packages (from python-slugify>=4.0.0->cookiecutter->mesa) (1.3)\n",
            "Installing collected packages: binaryornot, arrow, jinja2-time, poyo, cookiecutter, mesa\n",
            "Successfully installed arrow-0.16.0 binaryornot-0.4.4 cookiecutter-1.7.2 jinja2-time-0.2.0 mesa-0.8.7 poyo-0.5.0\n"
          ],
          "name": "stdout"
        }
      ]
    },
    {
      "cell_type": "code",
      "metadata": {
        "id": "HjM8Pf2065eJ",
        "colab_type": "code",
        "colab": {}
      },
      "source": [
        "from mesa import Agent, Model\n",
        "from mesa.time import RandomActivation\n",
        "import numpy as np\n",
        "from random import randint"
      ],
      "execution_count": null,
      "outputs": []
    },
    {
      "cell_type": "markdown",
      "metadata": {
        "id": "-IGXRTs965eN",
        "colab_type": "text"
      },
      "source": [
        "## Defining different types of agents in the model"
      ]
    },
    {
      "cell_type": "code",
      "metadata": {
        "id": "8Um7EH9565eN",
        "colab_type": "code",
        "colab": {}
      },
      "source": [
        "class BaseAgent(Agent): # Basic agent\n",
        "    \n",
        "    def __init__(self, unique_id, model):\n",
        "        super().__init__(unique_id, model)\n",
        "        self.status = \"\"                    # 4 possible states, based on paper: Susceptible, Exposed, Infected, Remove\n",
        "        self.prob_infect = 0                # Probability of infect another agent\n",
        "        self.prob_infected = 0              # Probability of getting infected\n",
        "        self.chanceOfChange = 0\n",
        "        self.transition = 0          \n",
        "        self.mask = False                   # Wearing mask or not\n",
        "        self.position = (randint(1,100), randint(1,100))               # Position on the map\n",
        "        self.prob_death = 0.0               # Probability of dying by Covid-19\n",
        "\n",
        "        # place for further attributes\n",
        "\n",
        "# t = transmission rate\n",
        "# Cij = contatcts of agegroup j made by agegroup i\n",
        "# k = 1-exp(-1\\incubation period) -> daily probability of individual becoming infectious\n",
        "    def step(self):\n",
        "      if self.status == 'S':\n",
        "        pass            \n",
        "      elif self.status == 'E':\n",
        "        pass\n",
        "      elif self.status == 'I':\n",
        "        pass\n",
        "      else:\n",
        "        print(\"Im agent number: \" + str(self.unique_id))\n",
        "        print(\"My current position is: \" + str(self.position) + \"\\n\")\n",
        "    \n",
        "    def change(self):\n",
        "      if self.status == 'S':\n",
        "        self.status == 'E'\n",
        "      elif self.status == 'E':\n",
        "        self.status == 'I'\n",
        "      elif self.status == 'I':\n",
        "        self.status == 'R'\n",
        "      \n",
        "        \n",
        "        # I think step is the method where we need to code basically everything about the agent\n"
      ],
      "execution_count": null,
      "outputs": []
    },
    {
      "cell_type": "markdown",
      "metadata": {
        "id": "K_auirLjNk_d",
        "colab_type": "text"
      },
      "source": [
        "### Children\n",
        "\n",
        "- Meeting other agents in the school\n",
        "- Low dying probability\n",
        "- Can infect anyone"
      ]
    },
    {
      "cell_type": "code",
      "metadata": {
        "id": "g82tSE6E65eP",
        "colab_type": "code",
        "colab": {}
      },
      "source": [
        "class ChildAgent(BaseAgent):\n",
        "\n",
        "  def __init__(self, unique_id, model):\n",
        "      super().__init__(unique_id, model)\n",
        "\n",
        "      # We need to set the fixed values, based on research\n",
        "\n",
        "      self.status = \"susceptible\"                    \n",
        "      self.prob_infect = 0.5                \n",
        "      self.prob_infected = 0.2              \n",
        "      self.mask = False                   \n",
        "      self.position = (1,0)  \n",
        "      self.prob_death = 0.1 \n",
        "\n",
        "  def step(self):\n",
        "    print(self.status)"
      ],
      "execution_count": null,
      "outputs": []
    },
    {
      "cell_type": "markdown",
      "metadata": {
        "id": "ncHDnaZeN0b0",
        "colab_type": "text"
      },
      "source": [
        "### Young people\n",
        "\n",
        "- Low probability of dying\n",
        "- Meeting other people in work or school\n",
        "- Lower probability of getting infected"
      ]
    },
    {
      "cell_type": "code",
      "metadata": {
        "colab_type": "code",
        "id": "u-EE0ouQNCp7",
        "colab": {}
      },
      "source": [
        "class YoungAgent(BaseAgent):\n",
        "\n",
        "  def __init__(self, unique_id, model):\n",
        "      super().__init__(unique_id, model)\n",
        "\n",
        "      # We need to set the fixed values, based on research\n",
        "      \n",
        "      self.status = \"susceptible\"                    \n",
        "      self.prob_infect = 0.5                \n",
        "      self.prob_infected = 0.2              \n",
        "      self.mask = False                   \n",
        "      self.position = (1,0)  \n",
        "      self.prob_death = 0.1 \n",
        "\n",
        "  def step(self):\n",
        "    print(self.status)"
      ],
      "execution_count": null,
      "outputs": []
    },
    {
      "cell_type": "markdown",
      "metadata": {
        "id": "IHEP2fKYODmA",
        "colab_type": "text"
      },
      "source": [
        "### Old people\n",
        "\n",
        "- High probability of dying\n",
        "- High probability of being infected\n",
        "- They fon't move too much"
      ]
    },
    {
      "cell_type": "code",
      "metadata": {
        "colab_type": "code",
        "id": "oBK9Ep93NDE2",
        "colab": {}
      },
      "source": [
        "class OldAgent(BaseAgent):\n",
        "\n",
        "  def __init__(self, unique_id, model):\n",
        "      super().__init__(unique_id, model)\n",
        "\n",
        "      # We need to set the fixed values, based on research\n",
        "      \n",
        "      self.status = \"susceptible\"                    \n",
        "      self.prob_infect = 0.5                \n",
        "      self.prob_infected = 0.2              \n",
        "      self.mask = False                   \n",
        "      self.position = (1,0)  \n",
        "      self.prob_death = 0.7 \n",
        "\n",
        "  def step(self):\n",
        "    print(self.status)"
      ],
      "execution_count": null,
      "outputs": []
    },
    {
      "cell_type": "markdown",
      "metadata": {
        "id": "l2vf-j3nJ3SX",
        "colab_type": "text"
      },
      "source": [
        "## Building an operation model"
      ]
    },
    {
      "cell_type": "code",
      "metadata": {
        "id": "4hLmaUgkJ7-z",
        "colab_type": "code",
        "colab": {}
      },
      "source": [
        "class VirusModel(Model):\n",
        "\n",
        "    def __init__(self, N):\n",
        "        self.num_agents = N\n",
        "        self.schedule = RandomActivation(self)\n",
        "        # Create agents\n",
        "        for i in range(self.num_agents):\n",
        "            a = BaseAgent(i, self)\n",
        "            self.schedule.add(a)\n",
        "\n",
        "    def step(self):\n",
        "        '''Advance the model by one step.'''\n",
        "        self.schedule.step()"
      ],
      "execution_count": null,
      "outputs": []
    },
    {
      "cell_type": "code",
      "metadata": {
        "id": "BwaIEV98KT6R",
        "colab_type": "code",
        "colab": {
          "base_uri": "https://localhost:8080/",
          "height": 521
        },
        "outputId": "accd7b9b-eb0f-41fd-97fe-f0da9632c36b"
      },
      "source": [
        "model = VirusModel(10)\n",
        "model.step()"
      ],
      "execution_count": null,
      "outputs": [
        {
          "output_type": "stream",
          "text": [
            "Im agent number: 0\n",
            "My current position is: (27, 22)\n",
            "\n",
            "Im agent number: 8\n",
            "My current position is: (85, 39)\n",
            "\n",
            "Im agent number: 1\n",
            "My current position is: (13, 64)\n",
            "\n",
            "Im agent number: 6\n",
            "My current position is: (32, 70)\n",
            "\n",
            "Im agent number: 5\n",
            "My current position is: (83, 52)\n",
            "\n",
            "Im agent number: 7\n",
            "My current position is: (91, 25)\n",
            "\n",
            "Im agent number: 9\n",
            "My current position is: (42, 4)\n",
            "\n",
            "Im agent number: 4\n",
            "My current position is: (5, 20)\n",
            "\n",
            "Im agent number: 2\n",
            "My current position is: (28, 92)\n",
            "\n",
            "Im agent number: 3\n",
            "My current position is: (28, 13)\n",
            "\n"
          ],
          "name": "stdout"
        }
      ]
    },
    {
      "cell_type": "markdown",
      "metadata": {
        "id": "NSocR50Fsa30",
        "colab_type": "text"
      },
      "source": [
        "## Visualisation"
      ]
    },
    {
      "cell_type": "code",
      "metadata": {
        "id": "5Eo1En0ktTp_",
        "colab_type": "code",
        "colab": {
          "base_uri": "https://localhost:8080/",
          "height": 188
        },
        "outputId": "402b13d7-759f-4745-d31c-2c164484f7d5"
      },
      "source": [
        "pip install ColabTurtle"
      ],
      "execution_count": null,
      "outputs": [
        {
          "output_type": "stream",
          "text": [
            "Collecting ColabTurtle\n",
            "  Downloading https://files.pythonhosted.org/packages/49/01/6da7091c2c6c917cce99c000b89acb6aa27b66ef6eafc0c0ccf59b98694f/ColabTurtle-2.0.0.tar.gz\n",
            "Building wheels for collected packages: ColabTurtle\n",
            "  Building wheel for ColabTurtle (setup.py) ... \u001b[?25l\u001b[?25hdone\n",
            "  Created wheel for ColabTurtle: filename=ColabTurtle-2.0.0-cp36-none-any.whl size=4032 sha256=a0d48ed68cae14f4dd7b7a2da144bb7f0c7682aff0693190a49e89940798cef7\n",
            "  Stored in directory: /root/.cache/pip/wheels/a8/29/ec/ad346f0042ae467cc74f4378916348faf975b07890651dcae7\n",
            "Successfully built ColabTurtle\n",
            "Installing collected packages: ColabTurtle\n",
            "Successfully installed ColabTurtle-2.0.0\n"
          ],
          "name": "stdout"
        }
      ]
    },
    {
      "cell_type": "code",
      "metadata": {
        "id": "j1pCICQSseMl",
        "colab_type": "code",
        "colab": {}
      },
      "source": [
        "import ColabTurtle"
      ],
      "execution_count": null,
      "outputs": []
    },
    {
      "cell_type": "code",
      "metadata": {
        "id": "pW-PlFDKshr0",
        "colab_type": "code",
        "colab": {
          "base_uri": "https://localhost:8080/",
          "height": 521
        },
        "outputId": "a528aae5-8932-4d2b-fe1d-09028cf06666"
      },
      "source": [
        "alex = ColabTurtle.Turtle\n",
        "alex.initializeTurtle()\n",
        "alex.bgcolor('white')\n",
        "alex.pen_color('blue')\n",
        "\n",
        "for agent in model.schedule.agents:\n",
        "\n",
        "  alex.penup()\n",
        "  alex.goto(agent.position[0], agent.position[1])\n",
        "  alex.pendown()\n",
        "  alex.dot"
      ],
      "execution_count": null,
      "outputs": [
        {
          "output_type": "display_data",
          "data": {
            "text/html": [
              "\n",
              "      <svg width=\"800\" height=\"500\">\n",
              "        <rect width=\"100%\" height=\"100%\" fill=\"white\"/>\n",
              "        \n",
              "        \n",
              "      <g visibility=visible transform=\"rotate(180,42,4) translate(42, 4)\">\n",
              "        <circle stroke=\"white\" stroke-width=\"3\" fill=\"transparent\" r=\"12\" cx=\"0\" cy=\"0\"/>\n",
              "        <polygon points=\"0,19 3,16 -3,16\" style=\"fill:white;stroke:white;stroke-width:2\"/>\n",
              "      </g>\n",
              "    \n",
              "      </svg>\n",
              "    "
            ],
            "text/plain": [
              "<IPython.core.display.HTML object>"
            ]
          },
          "metadata": {
            "tags": []
          }
        }
      ]
    },
    {
      "cell_type": "code",
      "metadata": {
        "id": "0VBISk4ju5F9",
        "colab_type": "code",
        "colab": {
          "base_uri": "https://localhost:8080/",
          "height": 162
        },
        "outputId": "31740f87-195e-435e-b586-ad95a3dabba7"
      },
      "source": [
        "alex."
      ],
      "execution_count": null,
      "outputs": [
        {
          "output_type": "error",
          "ename": "AttributeError",
          "evalue": "ignored",
          "traceback": [
            "\u001b[0;31m---------------------------------------------------------------------------\u001b[0m",
            "\u001b[0;31mAttributeError\u001b[0m                            Traceback (most recent call last)",
            "\u001b[0;32m<ipython-input-39-90880dd46c8b>\u001b[0m in \u001b[0;36m<module>\u001b[0;34m()\u001b[0m\n\u001b[0;32m----> 1\u001b[0;31m \u001b[0malex\u001b[0m\u001b[0;34m.\u001b[0m\u001b[0mposition\u001b[0m\u001b[0;34m(\u001b[0m\u001b[0;34m)\u001b[0m\u001b[0;34m\u001b[0m\u001b[0;34m\u001b[0m\u001b[0m\n\u001b[0m",
            "\u001b[0;31mAttributeError\u001b[0m: module 'ColabTurtle.Turtle' has no attribute 'position'"
          ]
        }
      ]
    }
  ]
}